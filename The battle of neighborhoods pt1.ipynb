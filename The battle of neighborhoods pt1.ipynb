{
 "cells": [
  {
   "cell_type": "markdown",
   "metadata": {},
   "source": [
    "# The Battle of Neighborhoods"
   ]
  },
  {
   "cell_type": "markdown",
   "metadata": {},
   "source": [
    "## Title: Best place to stay in Gramado/RS (Brazil)"
   ]
  },
  {
   "cell_type": "markdown",
   "metadata": {},
   "source": [
    "### Introduction"
   ]
  },
  {
   "cell_type": "markdown",
   "metadata": {},
   "source": [
    "Gramado is a city in Rio Grande do Sul, Brazil, known as a good destination for traveling given its cultural events along the whole year, gastronomy, nature, architecture and beatiful people. The city possess an estimated population of 36,232 inhabitants (https://cidades.ibge.gov.br/brasil/rs/gramado/panorama).\n",
    "\n",
    "The majority of economic activities are related to tourism, receiving around one million of visitors per year. For that, the city must maintain an appropriate infrastructure of hotels, restaurants, parks and thematic events."
   ]
  },
  {
   "cell_type": "markdown",
   "metadata": {},
   "source": [
    "### Problem description"
   ]
  },
  {
   "cell_type": "markdown",
   "metadata": {},
   "source": [
    "XYZ Hotel is a well established hotel chain that wants to start business in Gramado. This brand is well known by its high quality rooms and a wide range of services like breakfast, convention centers, swimming pool and fitness center, recreation for kids and guided tour services around the cities where they have hotels.\n",
    "\n",
    "Customers of XYZ Hotel seek this place to rest but don't stay all the time in the hotel. They usually like to know the vicinity, spending their time in coffee and chocolate shops, restaurants and thematic events, but also doing activities in family in open air places.\n",
    "\n",
    "Given its reputation and knowing well which type of customers they intend to have, XYZ Hotel would like to set down in the most appropriate place in the city, that offers plenty of space for hotel services but is also close enough to places of interest of its customers."
   ]
  },
  {
   "cell_type": "markdown",
   "metadata": {},
   "source": [
    "### Target audience"
   ]
  },
  {
   "cell_type": "markdown",
   "metadata": {},
   "source": [
    "Our target audience is XYZ Hotel administrators, that need to make an important decision that needs solid foundation, because it will have direct impact in its future income and brand reputation."
   ]
  },
  {
   "cell_type": "markdown",
   "metadata": {},
   "source": [
    "### Success criteria"
   ]
  },
  {
   "cell_type": "markdown",
   "metadata": {},
   "source": [
    "Identify a place in the city that is close to the most well ranked places that are of interest of its customers."
   ]
  },
  {
   "cell_type": "code",
   "execution_count": null,
   "metadata": {},
   "outputs": [],
   "source": []
  }
 ],
 "metadata": {
  "kernelspec": {
   "display_name": "Python 3",
   "language": "python",
   "name": "python3"
  },
  "language_info": {
   "codemirror_mode": {
    "name": "ipython",
    "version": 3
   },
   "file_extension": ".py",
   "mimetype": "text/x-python",
   "name": "python",
   "nbconvert_exporter": "python",
   "pygments_lexer": "ipython3",
   "version": "3.7.3"
  }
 },
 "nbformat": 4,
 "nbformat_minor": 2
}
